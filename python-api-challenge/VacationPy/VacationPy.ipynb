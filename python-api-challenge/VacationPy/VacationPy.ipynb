{
 "cells": [
  {
   "cell_type": "code",
   "execution_count": 1,
   "metadata": {},
   "outputs": [],
   "source": [
    "import json\n",
    "import requests\n",
    "import citipy\n",
    "import pandas as pd\n",
    "import matplotlib.pyplot as plt\n",
    "import scipy.stats as st\n",
    "import gmaps\n",
    "from config import gkey\n",
    "cities_sample = pd.read_csv(\"../WeatherPy/cities_sample.csv\")\n",
    "cities_sample = cities_sample.rename(columns = {'Unnamed: 0': 'Country ID'})\n",
    "gmaps.configure(api_key = gkey)"
   ]
  },
  {
   "cell_type": "code",
   "execution_count": 2,
   "metadata": {},
   "outputs": [
    {
     "data": {
      "text/html": [
       "<div>\n",
       "<style scoped>\n",
       "    .dataframe tbody tr th:only-of-type {\n",
       "        vertical-align: middle;\n",
       "    }\n",
       "\n",
       "    .dataframe tbody tr th {\n",
       "        vertical-align: top;\n",
       "    }\n",
       "\n",
       "    .dataframe thead th {\n",
       "        text-align: right;\n",
       "    }\n",
       "</style>\n",
       "<table border=\"1\" class=\"dataframe\">\n",
       "  <thead>\n",
       "    <tr style=\"text-align: right;\">\n",
       "      <th></th>\n",
       "      <th>Country ID</th>\n",
       "      <th>Country</th>\n",
       "      <th>City</th>\n",
       "      <th>Latitude</th>\n",
       "      <th>Longitude</th>\n",
       "      <th>Temperature (F)</th>\n",
       "      <th>Humidity (%)</th>\n",
       "      <th>Cloudiness (%)</th>\n",
       "      <th>Wind Speed (mph)</th>\n",
       "    </tr>\n",
       "  </thead>\n",
       "  <tbody>\n",
       "    <tr>\n",
       "      <td>0</td>\n",
       "      <td>28204</td>\n",
       "      <td>PH</td>\n",
       "      <td>Gibato</td>\n",
       "      <td>11.225100</td>\n",
       "      <td>122.814300</td>\n",
       "      <td>87.71</td>\n",
       "      <td>57.0</td>\n",
       "      <td>16.0</td>\n",
       "      <td>13.20</td>\n",
       "    </tr>\n",
       "    <tr>\n",
       "      <td>1</td>\n",
       "      <td>43856</td>\n",
       "      <td>US</td>\n",
       "      <td>Braintree</td>\n",
       "      <td>42.222222</td>\n",
       "      <td>-71.000000</td>\n",
       "      <td>34.43</td>\n",
       "      <td>86.0</td>\n",
       "      <td>1.0</td>\n",
       "      <td>5.95</td>\n",
       "    </tr>\n",
       "    <tr>\n",
       "      <td>2</td>\n",
       "      <td>29254</td>\n",
       "      <td>PH</td>\n",
       "      <td>New Visayas</td>\n",
       "      <td>7.523333</td>\n",
       "      <td>125.623333</td>\n",
       "      <td>84.20</td>\n",
       "      <td>74.0</td>\n",
       "      <td>75.0</td>\n",
       "      <td>10.29</td>\n",
       "    </tr>\n",
       "    <tr>\n",
       "      <td>3</td>\n",
       "      <td>33169</td>\n",
       "      <td>RO</td>\n",
       "      <td>Goicea</td>\n",
       "      <td>43.916667</td>\n",
       "      <td>23.616667</td>\n",
       "      <td>59.00</td>\n",
       "      <td>58.0</td>\n",
       "      <td>96.0</td>\n",
       "      <td>10.29</td>\n",
       "    </tr>\n",
       "    <tr>\n",
       "      <td>4</td>\n",
       "      <td>21904</td>\n",
       "      <td>JP</td>\n",
       "      <td>Ujiie</td>\n",
       "      <td>36.683333</td>\n",
       "      <td>139.966667</td>\n",
       "      <td>64.00</td>\n",
       "      <td>43.0</td>\n",
       "      <td>24.0</td>\n",
       "      <td>11.54</td>\n",
       "    </tr>\n",
       "  </tbody>\n",
       "</table>\n",
       "</div>"
      ],
      "text/plain": [
       "   Country ID Country         City   Latitude   Longitude  Temperature (F)  \\\n",
       "0       28204      PH       Gibato  11.225100  122.814300            87.71   \n",
       "1       43856      US    Braintree  42.222222  -71.000000            34.43   \n",
       "2       29254      PH  New Visayas   7.523333  125.623333            84.20   \n",
       "3       33169      RO       Goicea  43.916667   23.616667            59.00   \n",
       "4       21904      JP        Ujiie  36.683333  139.966667            64.00   \n",
       "\n",
       "   Humidity (%)  Cloudiness (%)  Wind Speed (mph)  \n",
       "0          57.0            16.0             13.20  \n",
       "1          86.0             1.0              5.95  \n",
       "2          74.0            75.0             10.29  \n",
       "3          58.0            96.0             10.29  \n",
       "4          43.0            24.0             11.54  "
      ]
     },
     "execution_count": 2,
     "metadata": {},
     "output_type": "execute_result"
    }
   ],
   "source": [
    "cities_sample.head()"
   ]
  },
  {
   "cell_type": "code",
   "execution_count": 3,
   "metadata": {},
   "outputs": [],
   "source": [
    "locations = cities_sample[['Latitude', 'Longitude']]\n",
    "max_humid = cities_sample['Humidity (%)'].max()"
   ]
  },
  {
   "cell_type": "code",
   "execution_count": 4,
   "metadata": {},
   "outputs": [
    {
     "data": {
      "application/vnd.jupyter.widget-view+json": {
       "model_id": "fa3d154a667644548ce7bb5b2364e9ba",
       "version_major": 2,
       "version_minor": 0
      },
      "text/plain": [
       "Figure(layout=FigureLayout(height='420px'))"
      ]
     },
     "metadata": {},
     "output_type": "display_data"
    }
   ],
   "source": [
    "fig = gmaps.figure()\n",
    "#Create a heat map that displays the humidity for every city from the part I of the homework.\n",
    "\n",
    "humidity_layer = gmaps.heatmap_layer(locations, weights = cities_sample['Humidity (%)'], max_intensity = max_humid, point_radius = 10)\n",
    "fig.add_layer(humidity_layer)\n",
    "fig"
   ]
  },
  {
   "cell_type": "code",
   "execution_count": 5,
   "metadata": {},
   "outputs": [
    {
     "data": {
      "text/html": [
       "<div>\n",
       "<style scoped>\n",
       "    .dataframe tbody tr th:only-of-type {\n",
       "        vertical-align: middle;\n",
       "    }\n",
       "\n",
       "    .dataframe tbody tr th {\n",
       "        vertical-align: top;\n",
       "    }\n",
       "\n",
       "    .dataframe thead th {\n",
       "        text-align: right;\n",
       "    }\n",
       "</style>\n",
       "<table border=\"1\" class=\"dataframe\">\n",
       "  <thead>\n",
       "    <tr style=\"text-align: right;\">\n",
       "      <th></th>\n",
       "      <th>Country ID</th>\n",
       "      <th>Country</th>\n",
       "      <th>City</th>\n",
       "      <th>Latitude</th>\n",
       "      <th>Longitude</th>\n",
       "      <th>Temperature (F)</th>\n",
       "      <th>Humidity (%)</th>\n",
       "      <th>Cloudiness (%)</th>\n",
       "      <th>Wind Speed (mph)</th>\n",
       "    </tr>\n",
       "  </thead>\n",
       "  <tbody>\n",
       "    <tr>\n",
       "      <td>8</td>\n",
       "      <td>22125</td>\n",
       "      <td>KY</td>\n",
       "      <td>Bodden Town</td>\n",
       "      <td>19.283333</td>\n",
       "      <td>-81.250000</td>\n",
       "      <td>79.66</td>\n",
       "      <td>76.0</td>\n",
       "      <td>0.0</td>\n",
       "      <td>3.00</td>\n",
       "    </tr>\n",
       "    <tr>\n",
       "      <td>274</td>\n",
       "      <td>10275</td>\n",
       "      <td>DO</td>\n",
       "      <td>Santo Domingo</td>\n",
       "      <td>18.466667</td>\n",
       "      <td>-69.900000</td>\n",
       "      <td>75.99</td>\n",
       "      <td>83.0</td>\n",
       "      <td>0.0</td>\n",
       "      <td>2.75</td>\n",
       "    </tr>\n",
       "    <tr>\n",
       "      <td>338</td>\n",
       "      <td>10608</td>\n",
       "      <td>EG</td>\n",
       "      <td>Hurghada</td>\n",
       "      <td>27.238889</td>\n",
       "      <td>33.836111</td>\n",
       "      <td>75.20</td>\n",
       "      <td>41.0</td>\n",
       "      <td>0.0</td>\n",
       "      <td>8.05</td>\n",
       "    </tr>\n",
       "  </tbody>\n",
       "</table>\n",
       "</div>"
      ],
      "text/plain": [
       "     Country ID Country           City   Latitude  Longitude  Temperature (F)  \\\n",
       "8         22125      KY    Bodden Town  19.283333 -81.250000            79.66   \n",
       "274       10275      DO  Santo Domingo  18.466667 -69.900000            75.99   \n",
       "338       10608      EG       Hurghada  27.238889  33.836111            75.20   \n",
       "\n",
       "     Humidity (%)  Cloudiness (%)  Wind Speed (mph)  \n",
       "8            76.0             0.0              3.00  \n",
       "274          83.0             0.0              2.75  \n",
       "338          41.0             0.0              8.05  "
      ]
     },
     "execution_count": 5,
     "metadata": {},
     "output_type": "execute_result"
    }
   ],
   "source": [
    "#Narrow down the DataFrame to find your ideal weather condition. For example:\n",
    "#A max temperature lower than 80 degrees but higher than 70.\n",
    "#Wind speed less than 10 mph.\n",
    "#Zero cloudiness.\n",
    "#Drop any rows that don't contain all three conditions. You want to be sure the weather is ideal.\n",
    "#Note: Feel free to adjust to your specifications but be sure to limit the number of rows returned by your API requests to a reasonable number.\n",
    "\n",
    "ideal_temp = cities_sample.loc[((cities_sample['Temperature (F)'] < 80) & (cities_sample['Temperature (F)'] > 70))]\n",
    "ideal_wind = ideal_temp.loc[cities_sample['Wind Speed (mph)'] < 10]\n",
    "ideal_locations = ideal_wind.loc[ideal_wind['Cloudiness (%)'] == 0]\n",
    "ideal_locations"
   ]
  },
  {
   "cell_type": "code",
   "execution_count": 6,
   "metadata": {},
   "outputs": [
    {
     "data": {
      "text/html": [
       "<div>\n",
       "<style scoped>\n",
       "    .dataframe tbody tr th:only-of-type {\n",
       "        vertical-align: middle;\n",
       "    }\n",
       "\n",
       "    .dataframe tbody tr th {\n",
       "        vertical-align: top;\n",
       "    }\n",
       "\n",
       "    .dataframe thead th {\n",
       "        text-align: right;\n",
       "    }\n",
       "</style>\n",
       "<table border=\"1\" class=\"dataframe\">\n",
       "  <thead>\n",
       "    <tr style=\"text-align: right;\">\n",
       "      <th></th>\n",
       "      <th>Name</th>\n",
       "      <th>City</th>\n",
       "      <th>Country</th>\n",
       "      <th>Latitude</th>\n",
       "      <th>Longitude</th>\n",
       "    </tr>\n",
       "  </thead>\n",
       "  <tbody>\n",
       "    <tr>\n",
       "      <td>8</td>\n",
       "      <td>Sea Palm Villas</td>\n",
       "      <td>258 Bodden Town Rd</td>\n",
       "      <td>Cayman Islands</td>\n",
       "      <td>19.2783</td>\n",
       "      <td>-81.2489</td>\n",
       "    </tr>\n",
       "    <tr>\n",
       "      <td>274</td>\n",
       "      <td>Hotel Hostal San Francisco de Asis</td>\n",
       "      <td>Av. Pasteur, Santo Domingo</td>\n",
       "      <td>Dominican Republic</td>\n",
       "      <td>18.4665</td>\n",
       "      <td>-69.8988</td>\n",
       "    </tr>\n",
       "    <tr>\n",
       "      <td>338</td>\n",
       "      <td>Bel Air Azur Resort</td>\n",
       "      <td>First Hurghada</td>\n",
       "      <td>Egypt</td>\n",
       "      <td>27.2417</td>\n",
       "      <td>33.8434</td>\n",
       "    </tr>\n",
       "  </tbody>\n",
       "</table>\n",
       "</div>"
      ],
      "text/plain": [
       "                                   Name                        City  \\\n",
       "8                       Sea Palm Villas          258 Bodden Town Rd   \n",
       "274  Hotel Hostal San Francisco de Asis  Av. Pasteur, Santo Domingo   \n",
       "338                 Bel Air Azur Resort              First Hurghada   \n",
       "\n",
       "                 Country Latitude Longitude  \n",
       "8         Cayman Islands  19.2783  -81.2489  \n",
       "274   Dominican Republic  18.4665  -69.8988  \n",
       "338                Egypt  27.2417   33.8434  "
      ]
     },
     "execution_count": 6,
     "metadata": {},
     "output_type": "execute_result"
    }
   ],
   "source": [
    "base_url = \"https://maps.googleapis.com/maps/api/place/nearbysearch/json?key=\" + gkey\n",
    "hotel_df = pd.DataFrame([{'Name': \"\",\n",
    "                        'City': \"\",\n",
    "                        'Country': \"\",\n",
    "                        'Latitude': \"\",\n",
    "                        'Longitude': \"\"}], index = ideal_locations.index.values)\n",
    "for index, row in ideal_locations.iterrows():\n",
    "    lat, lng = row['Latitude'], row['Longitude']\n",
    "    hotel_results = requests.get(base_url + f\"&location={lat},{lng}&rankby=distance&keyword=hotel\").json()['results']\n",
    "    try:\n",
    "        hotel_df.loc[index, 'Name'] = hotel_results[0]['name']\n",
    "        hotel_df.loc[index, 'City'] = hotel_results[0]['vicinity']\n",
    "        hotel_df.loc[index, 'Country'] = hotel_results[0]['plus_code']['compound_code'].split(',')[-1]\n",
    "        hotel_df.loc[index, 'Latitude'] = hotel_results[0]['geometry']['location']['lat']\n",
    "        hotel_df.loc[index, 'Longitude'] = hotel_results[0]['geometry']['location']['lng']\n",
    "    except:\n",
    "        print(f\"No hotels near {lat}, {lng}.\")\n",
    "hotel_df"
   ]
  },
  {
   "cell_type": "code",
   "execution_count": 7,
   "metadata": {},
   "outputs": [],
   "source": [
    "hotel_locations = [(row['Latitude'], row['Longitude']) for index, row in hotel_df.iterrows()]\n",
    "info_box_template = \"\"\"<dt>Name:</dt> {Name} <dt>City:</dt> {City} <dt>Country:</dt> {Country}\"\"\"\n",
    "hotel_info = [{'Name': row['Name'],\n",
    "              'City': row['City'],\n",
    "              'Country': row['Country']} for index, row in hotel_df.iterrows()]"
   ]
  },
  {
   "cell_type": "code",
   "execution_count": 8,
   "metadata": {},
   "outputs": [
    {
     "data": {
      "application/vnd.jupyter.widget-view+json": {
       "model_id": "fa3d154a667644548ce7bb5b2364e9ba",
       "version_major": 2,
       "version_minor": 0
      },
      "text/plain": [
       "Figure(layout=FigureLayout(height='420px'))"
      ]
     },
     "metadata": {},
     "output_type": "display_data"
    }
   ],
   "source": [
    "hotel_layer = gmaps.marker_layer(hotel_locations, info_box_content = [info_box_template.format(**hotel) for hotel in hotel_info])\n",
    "fig.add_layer(hotel_layer)\n",
    "fig"
   ]
  },
  {
   "cell_type": "code",
   "execution_count": null,
   "metadata": {},
   "outputs": [],
   "source": []
  }
 ],
 "metadata": {
  "kernelspec": {
   "display_name": "Python 3",
   "language": "python",
   "name": "python3"
  },
  "language_info": {
   "codemirror_mode": {
    "name": "ipython",
    "version": 3
   },
   "file_extension": ".py",
   "mimetype": "text/x-python",
   "name": "python",
   "nbconvert_exporter": "python",
   "pygments_lexer": "ipython3",
   "version": "3.7.4"
  }
 },
 "nbformat": 4,
 "nbformat_minor": 2
}
