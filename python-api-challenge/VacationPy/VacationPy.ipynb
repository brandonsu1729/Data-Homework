{
 "cells": [
  {
   "cell_type": "code",
   "execution_count": 1,
   "metadata": {},
   "outputs": [],
   "source": [
    "import json\n",
    "import requests\n",
    "import citipy\n",
    "import pandas as pd\n",
    "import matplotlib.pyplot as plt\n",
    "import scipy.stats as st\n",
    "import gmaps\n",
    "from config import gkey\n",
    "cities_sample = pd.read_csv(\"../WeatherPy/cities_sample.csv\")\n",
    "cities_sample = cities_sample.rename(columns = {'Unnamed: 0': 'Country ID'})\n",
    "gmaps.configure(api_key = gkey)"
   ]
  },
  {
   "cell_type": "code",
   "execution_count": 2,
   "metadata": {},
   "outputs": [
    {
     "data": {
      "text/html": [
       "<div>\n",
       "<style scoped>\n",
       "    .dataframe tbody tr th:only-of-type {\n",
       "        vertical-align: middle;\n",
       "    }\n",
       "\n",
       "    .dataframe tbody tr th {\n",
       "        vertical-align: top;\n",
       "    }\n",
       "\n",
       "    .dataframe thead th {\n",
       "        text-align: right;\n",
       "    }\n",
       "</style>\n",
       "<table border=\"1\" class=\"dataframe\">\n",
       "  <thead>\n",
       "    <tr style=\"text-align: right;\">\n",
       "      <th></th>\n",
       "      <th>Country ID</th>\n",
       "      <th>Country</th>\n",
       "      <th>City</th>\n",
       "      <th>Latitude</th>\n",
       "      <th>Longitude</th>\n",
       "      <th>Temperature (F)</th>\n",
       "      <th>Humidity (%)</th>\n",
       "      <th>Cloudiness (%)</th>\n",
       "      <th>Wind Speed (mph)</th>\n",
       "    </tr>\n",
       "  </thead>\n",
       "  <tbody>\n",
       "    <tr>\n",
       "      <td>0</td>\n",
       "      <td>11663</td>\n",
       "      <td>FR</td>\n",
       "      <td>Hautmont</td>\n",
       "      <td>50.247704</td>\n",
       "      <td>3.924607</td>\n",
       "      <td>44.62</td>\n",
       "      <td>32.0</td>\n",
       "      <td>34.0</td>\n",
       "      <td>5.75</td>\n",
       "    </tr>\n",
       "    <tr>\n",
       "      <td>1</td>\n",
       "      <td>11875</td>\n",
       "      <td>FR</td>\n",
       "      <td>Nevers</td>\n",
       "      <td>46.991203</td>\n",
       "      <td>3.157084</td>\n",
       "      <td>57.20</td>\n",
       "      <td>76.0</td>\n",
       "      <td>94.0</td>\n",
       "      <td>9.17</td>\n",
       "    </tr>\n",
       "    <tr>\n",
       "      <td>2</td>\n",
       "      <td>43180</td>\n",
       "      <td>US</td>\n",
       "      <td>Payette</td>\n",
       "      <td>44.078333</td>\n",
       "      <td>-116.932778</td>\n",
       "      <td>50.09</td>\n",
       "      <td>40.0</td>\n",
       "      <td>75.0</td>\n",
       "      <td>8.05</td>\n",
       "    </tr>\n",
       "    <tr>\n",
       "      <td>3</td>\n",
       "      <td>34594</td>\n",
       "      <td>RO</td>\n",
       "      <td>Urechesti</td>\n",
       "      <td>46.133333</td>\n",
       "      <td>27.083333</td>\n",
       "      <td>50.00</td>\n",
       "      <td>76.0</td>\n",
       "      <td>75.0</td>\n",
       "      <td>6.93</td>\n",
       "    </tr>\n",
       "    <tr>\n",
       "      <td>4</td>\n",
       "      <td>722</td>\n",
       "      <td>AT</td>\n",
       "      <td>Scharnstein</td>\n",
       "      <td>47.900000</td>\n",
       "      <td>13.950000</td>\n",
       "      <td>55.00</td>\n",
       "      <td>89.0</td>\n",
       "      <td>100.0</td>\n",
       "      <td>4.00</td>\n",
       "    </tr>\n",
       "  </tbody>\n",
       "</table>\n",
       "</div>"
      ],
      "text/plain": [
       "   Country ID Country         City   Latitude   Longitude  Temperature (F)  \\\n",
       "0       11663      FR     Hautmont  50.247704    3.924607            44.62   \n",
       "1       11875      FR       Nevers  46.991203    3.157084            57.20   \n",
       "2       43180      US      Payette  44.078333 -116.932778            50.09   \n",
       "3       34594      RO    Urechesti  46.133333   27.083333            50.00   \n",
       "4         722      AT  Scharnstein  47.900000   13.950000            55.00   \n",
       "\n",
       "   Humidity (%)  Cloudiness (%)  Wind Speed (mph)  \n",
       "0          32.0            34.0              5.75  \n",
       "1          76.0            94.0              9.17  \n",
       "2          40.0            75.0              8.05  \n",
       "3          76.0            75.0              6.93  \n",
       "4          89.0           100.0              4.00  "
      ]
     },
     "execution_count": 2,
     "metadata": {},
     "output_type": "execute_result"
    }
   ],
   "source": [
    "cities_sample.head()"
   ]
  },
  {
   "cell_type": "code",
   "execution_count": 3,
   "metadata": {},
   "outputs": [],
   "source": [
    "locations = cities_sample[['Latitude', 'Longitude']]\n",
    "max_humid = cities_sample['Humidity (%)'].max()"
   ]
  },
  {
   "cell_type": "code",
   "execution_count": 4,
   "metadata": {},
   "outputs": [
    {
     "data": {
      "application/vnd.jupyter.widget-view+json": {
       "model_id": "dab4247ce02e460dae6927b99cf51493",
       "version_major": 2,
       "version_minor": 0
      },
      "text/plain": [
       "Figure(layout=FigureLayout(height='420px'))"
      ]
     },
     "metadata": {},
     "output_type": "display_data"
    }
   ],
   "source": [
    "fig = gmaps.figure()\n",
    "#Create a heat map that displays the humidity for every city from the part I of the homework.\n",
    "\n",
    "humidity_layer = gmaps.heatmap_layer(locations, weights = cities_sample['Humidity (%)'], max_intensity = max_humid, point_radius = 10)\n",
    "fig.add_layer(humidity_layer)\n",
    "fig"
   ]
  },
  {
   "cell_type": "code",
   "execution_count": 5,
   "metadata": {},
   "outputs": [
    {
     "data": {
      "text/html": [
       "<div>\n",
       "<style scoped>\n",
       "    .dataframe tbody tr th:only-of-type {\n",
       "        vertical-align: middle;\n",
       "    }\n",
       "\n",
       "    .dataframe tbody tr th {\n",
       "        vertical-align: top;\n",
       "    }\n",
       "\n",
       "    .dataframe thead th {\n",
       "        text-align: right;\n",
       "    }\n",
       "</style>\n",
       "<table border=\"1\" class=\"dataframe\">\n",
       "  <thead>\n",
       "    <tr style=\"text-align: right;\">\n",
       "      <th></th>\n",
       "      <th>Country ID</th>\n",
       "      <th>Country</th>\n",
       "      <th>City</th>\n",
       "      <th>Latitude</th>\n",
       "      <th>Longitude</th>\n",
       "      <th>Temperature (F)</th>\n",
       "      <th>Humidity (%)</th>\n",
       "      <th>Cloudiness (%)</th>\n",
       "      <th>Wind Speed (mph)</th>\n",
       "    </tr>\n",
       "  </thead>\n",
       "  <tbody>\n",
       "    <tr>\n",
       "      <td>65</td>\n",
       "      <td>15034</td>\n",
       "      <td>HN</td>\n",
       "      <td>Morazan</td>\n",
       "      <td>15.316667</td>\n",
       "      <td>-87.6</td>\n",
       "      <td>74.16</td>\n",
       "      <td>67.0</td>\n",
       "      <td>0.0</td>\n",
       "      <td>2.39</td>\n",
       "    </tr>\n",
       "  </tbody>\n",
       "</table>\n",
       "</div>"
      ],
      "text/plain": [
       "    Country ID Country     City   Latitude  Longitude  Temperature (F)  \\\n",
       "65       15034      HN  Morazan  15.316667      -87.6            74.16   \n",
       "\n",
       "    Humidity (%)  Cloudiness (%)  Wind Speed (mph)  \n",
       "65          67.0             0.0              2.39  "
      ]
     },
     "execution_count": 5,
     "metadata": {},
     "output_type": "execute_result"
    }
   ],
   "source": [
    "#Narrow down the DataFrame to find your ideal weather condition. For example:\n",
    "#A max temperature lower than 80 degrees but higher than 70.\n",
    "#Wind speed less than 10 mph.\n",
    "#Zero cloudiness.\n",
    "#Drop any rows that don't contain all three conditions. You want to be sure the weather is ideal.\n",
    "#Note: Feel free to adjust to your specifications but be sure to limit the number of rows returned by your API requests to a reasonable number.\n",
    "\n",
    "ideal_temp = cities_sample.loc[((cities_sample['Temperature (F)'] < 80) & (cities_sample['Temperature (F)'] > 70))]\n",
    "ideal_wind = ideal_temp.loc[cities_sample['Wind Speed (mph)'] < 10]\n",
    "ideal_locations = ideal_wind.loc[ideal_wind['Cloudiness (%)'] == 0]\n",
    "ideal_locations"
   ]
  },
  {
   "cell_type": "code",
   "execution_count": 6,
   "metadata": {},
   "outputs": [
    {
     "data": {
      "text/html": [
       "<div>\n",
       "<style scoped>\n",
       "    .dataframe tbody tr th:only-of-type {\n",
       "        vertical-align: middle;\n",
       "    }\n",
       "\n",
       "    .dataframe tbody tr th {\n",
       "        vertical-align: top;\n",
       "    }\n",
       "\n",
       "    .dataframe thead th {\n",
       "        text-align: right;\n",
       "    }\n",
       "</style>\n",
       "<table border=\"1\" class=\"dataframe\">\n",
       "  <thead>\n",
       "    <tr style=\"text-align: right;\">\n",
       "      <th></th>\n",
       "      <th>Name</th>\n",
       "      <th>City</th>\n",
       "      <th>Country</th>\n",
       "      <th>Latitude</th>\n",
       "      <th>Longitude</th>\n",
       "    </tr>\n",
       "  </thead>\n",
       "  <tbody>\n",
       "    <tr>\n",
       "      <td>65</td>\n",
       "      <td>Hotel Diana's</td>\n",
       "      <td>Morazan</td>\n",
       "      <td>Honduras</td>\n",
       "      <td>15.3184</td>\n",
       "      <td>-87.6011</td>\n",
       "    </tr>\n",
       "  </tbody>\n",
       "</table>\n",
       "</div>"
      ],
      "text/plain": [
       "             Name     City    Country Latitude Longitude\n",
       "65  Hotel Diana's  Morazan   Honduras  15.3184  -87.6011"
      ]
     },
     "execution_count": 6,
     "metadata": {},
     "output_type": "execute_result"
    }
   ],
   "source": [
    "base_url = \"https://maps.googleapis.com/maps/api/place/nearbysearch/json?key=\" + gkey\n",
    "hotel_df = pd.DataFrame([{'Name': \"\",\n",
    "                        'City': \"\",\n",
    "                        'Country': \"\",\n",
    "                        'Latitude': \"\",\n",
    "                        'Longitude': \"\"}], index = ideal_locations.index.values)\n",
    "for index, row in ideal_locations.iterrows():\n",
    "    lat, lng = row['Latitude'], row['Longitude']\n",
    "    hotel_results = requests.get(base_url + f\"&location={lat},{lng}&rankby=distance&keyword=hotel\").json()['results']\n",
    "    try:\n",
    "        hotel_df.loc[index, 'Name'] = hotel_results[0]['name']\n",
    "        hotel_df.loc[index, 'City'] = hotel_results[0]['vicinity']\n",
    "        hotel_df.loc[index, 'Country'] = hotel_results[0]['plus_code']['compound_code'].split(',')[-1]\n",
    "        hotel_df.loc[index, 'Latitude'] = hotel_results[0]['geometry']['location']['lat']\n",
    "        hotel_df.loc[index, 'Longitude'] = hotel_results[0]['geometry']['location']['lng']\n",
    "    except:\n",
    "        print(f\"No hotels near {lat}, {lng}.\")\n",
    "hotel_df"
   ]
  },
  {
   "cell_type": "code",
   "execution_count": 23,
   "metadata": {},
   "outputs": [],
   "source": [
    "hotel_locations = [(row['Latitude'], row['Longitude']) for index, row in hotel_df.iterrows()]\n",
    "info_box_template = \"\"\"\n",
    "<dt>Name:</dt> \n",
    "<dd>{Name}</dd>\n",
    "<dt>City:</dt>\n",
    "<dd>{City}</dd>\n",
    "<dt>Country:</dt>\n",
    "<dd>{Country}</dd>\n",
    "\"\"\"\n",
    "hotel_info = [{'Name': row['Name'],\n",
    "              'City': row['City'],\n",
    "              'Country': row['Country']} for index, row in hotel_df.iterrows()]"
   ]
  },
  {
   "cell_type": "code",
   "execution_count": 24,
   "metadata": {},
   "outputs": [
    {
     "data": {
      "application/vnd.jupyter.widget-view+json": {
       "model_id": "dab4247ce02e460dae6927b99cf51493",
       "version_major": 2,
       "version_minor": 0
      },
      "text/plain": [
       "Figure(layout=FigureLayout(height='420px'))"
      ]
     },
     "metadata": {},
     "output_type": "display_data"
    }
   ],
   "source": [
    "hotel_layer = gmaps.marker_layer(hotel_locations, info_box_content = [info_box_template.format(**hotel) for hotel in hotel_info])\n",
    "fig.add_layer(hotel_layer)\n",
    "fig"
   ]
  },
  {
   "cell_type": "code",
   "execution_count": null,
   "metadata": {},
   "outputs": [],
   "source": []
  }
 ],
 "metadata": {
  "kernelspec": {
   "display_name": "Python 3",
   "language": "python",
   "name": "python3"
  },
  "language_info": {
   "codemirror_mode": {
    "name": "ipython",
    "version": 3
   },
   "file_extension": ".py",
   "mimetype": "text/x-python",
   "name": "python",
   "nbconvert_exporter": "python",
   "pygments_lexer": "ipython3",
   "version": "3.7.4"
  }
 },
 "nbformat": 4,
 "nbformat_minor": 2
}
