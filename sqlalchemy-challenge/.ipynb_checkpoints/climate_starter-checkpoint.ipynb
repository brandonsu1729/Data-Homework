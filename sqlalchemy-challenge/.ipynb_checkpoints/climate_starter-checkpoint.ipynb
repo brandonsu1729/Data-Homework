{
 "cells": [
  {
   "cell_type": "code",
   "execution_count": 1,
   "metadata": {},
   "outputs": [],
   "source": [
    "%matplotlib inline\n",
    "from matplotlib import style\n",
    "style.use('fivethirtyeight')\n",
    "import matplotlib.pyplot as plt"
   ]
  },
  {
   "cell_type": "code",
   "execution_count": 2,
   "metadata": {},
   "outputs": [],
   "source": [
    "import numpy as np\n",
    "import pandas as pd"
   ]
  },
  {
   "cell_type": "code",
   "execution_count": 3,
   "metadata": {},
   "outputs": [],
   "source": [
    "import datetime as dt"
   ]
  },
  {
   "cell_type": "markdown",
   "metadata": {},
   "source": [
    "# Reflect Tables into SQLAlchemy ORM"
   ]
  },
  {
   "cell_type": "code",
   "execution_count": 4,
   "metadata": {},
   "outputs": [],
   "source": [
    "# Python SQL toolkit and Object Relational Mapper\n",
    "import sqlalchemy\n",
    "from sqlalchemy.ext.automap import automap_base\n",
    "from sqlalchemy.orm import Session\n",
    "from sqlalchemy import create_engine, func, inspect\n",
    "import datetime as dt\n",
    "from dateutil.relativedelta import relativedelta"
   ]
  },
  {
   "cell_type": "code",
   "execution_count": 5,
   "metadata": {},
   "outputs": [],
   "source": [
    "engine = create_engine(\"sqlite:///Resources/hawaii.sqlite\")"
   ]
  },
  {
   "cell_type": "code",
   "execution_count": 6,
   "metadata": {},
   "outputs": [
    {
     "data": {
      "text/plain": [
       "['measurement', 'station']"
      ]
     },
     "execution_count": 6,
     "metadata": {},
     "output_type": "execute_result"
    }
   ],
   "source": [
    "# reflect an existing database into a new model\n",
    "Base = automap_base()\n",
    "# reflect the tables\n",
    "Base.prepare(engine, reflect = True)\n",
    "inspector = inspect(engine)\n",
    "inspector.get_table_names()"
   ]
  },
  {
   "cell_type": "code",
   "execution_count": 7,
   "metadata": {},
   "outputs": [
    {
     "data": {
      "text/plain": [
       "['measurement', 'station']"
      ]
     },
     "execution_count": 7,
     "metadata": {},
     "output_type": "execute_result"
    }
   ],
   "source": [
    "# We can view all of the classes that automap found\n",
    "Base.classes.keys()"
   ]
  },
  {
   "cell_type": "code",
   "execution_count": 8,
   "metadata": {},
   "outputs": [],
   "source": [
    "# Save references to each table\n",
    "measurement = Base.classes.measurement\n",
    "station = Base.classes.station"
   ]
  },
  {
   "cell_type": "code",
   "execution_count": 9,
   "metadata": {},
   "outputs": [],
   "source": [
    "# Create our session (link) from Python to the DB\n",
    "session = Session(engine)"
   ]
  },
  {
   "cell_type": "markdown",
   "metadata": {},
   "source": [
    "# Exploratory Climate Analysis"
   ]
  },
  {
   "cell_type": "code",
   "execution_count": 10,
   "metadata": {},
   "outputs": [
    {
     "data": {
      "text/plain": [
       "([<matplotlib.axis.XTick at 0x163ec7b9188>,\n",
       "  <matplotlib.axis.XTick at 0x163ee132048>,\n",
       "  <matplotlib.axis.XTick at 0x163ee4bde08>,\n",
       "  <matplotlib.axis.XTick at 0x163f0c73cc8>,\n",
       "  <matplotlib.axis.XTick at 0x163f0c7a408>,\n",
       "  <matplotlib.axis.XTick at 0x163f0c7ad48>,\n",
       "  <matplotlib.axis.XTick at 0x163f0c7f708>,\n",
       "  <matplotlib.axis.XTick at 0x163f0c83108>,\n",
       "  <matplotlib.axis.XTick at 0x163f0c839c8>,\n",
       "  <matplotlib.axis.XTick at 0x163f0c88348>,\n",
       "  <matplotlib.axis.XTick at 0x163f0c88c48>,\n",
       "  <matplotlib.axis.XTick at 0x163f0c7f788>],\n",
       " <a list of 12 Text xticklabel objects>)"
      ]
     },
     "execution_count": 10,
     "metadata": {},
     "output_type": "execute_result"
    },
    {
     "data": {
      "image/png": "[encoded data removed]",
      "text/plain": [
       "<Figure size 432x288 with 1 Axes>"
      ]
     },
     "metadata": {
      "needs_background": "light"
     },
     "output_type": "display_data"
    }
   ],
   "source": [
    "# Design a query to retrieve the last 12 months of precipitation data and plot the results\n",
    "inspector.get_columns('measurement') #prcp id, statio, date, prcp, tobs\n",
    "#inspector.get_columns('station')\n",
    "latest_date = session.query(measurement.date).order_by(measurement.date.desc()).first()[0]\n",
    "latest_datetime = dt.datetime.strptime(latest_date, '%Y-%m-%d').date()\n",
    "\n",
    "\n",
    "# Calculate the date 1 year ago from the last data point in the database\n",
    "year_earlier = latest_datetime + relativedelta(months = -12)\n",
    "year_earlier\n",
    "\n",
    "# Perform a query to retrieve the data and precipitation scores\n",
    "precipitation = session.query(measurement.date, measurement.prcp).\\\n",
    "                    order_by(measurement.date).\\\n",
    "                    filter(measurement.date < latest_date).\\\n",
    "                    filter(measurement.date > year_earlier).all()\n",
    "\n",
    "# Save the query results as a Pandas DataFrame and set the index to the date column\n",
    "precip_list = {'Date': [], 'Precipitation': []}\n",
    "dates = []\n",
    "for date, precip in precipitation:\n",
    "    precip_list['Date'].append(date)\n",
    "    precip_list['Precipitation'].append(precip)\n",
    "    if date.split(\"-\")[-1] == \"01\" and date not in dates:\n",
    "        dates.append(date)\n",
    "\n",
    "# Sort the dataframe by date\n",
    "precip_df = pd.DataFrame(precip_list)\n",
    "sorted_df = precip_df.set_index('Date')\n",
    "# Use Pandas Plotting with Matplotlib to plot the data\n",
    "plt.bar(precip_df['Date'], precip_df['Precipitation'])\n",
    "plt.xlabel(\"Dates\"), plt.ylabel(\"Inches\")\n",
    "plt.xticks(ticks = dates, rotation = 90)"
   ]
  },
  {
   "cell_type": "code",
   "execution_count": 11,
   "metadata": {},
   "outputs": [
    {
     "data": {
      "text/plain": [
       "count    2011.000000\n",
       "mean        0.176549\n",
       "std         0.460667\n",
       "min         0.000000\n",
       "25%         0.000000\n",
       "50%         0.020000\n",
       "75%         0.130000\n",
       "max         6.700000\n",
       "Name: Precipitation, dtype: float64"
      ]
     },
     "execution_count": 11,
     "metadata": {},
     "output_type": "execute_result"
    }
   ],
   "source": [
    "# Use Pandas to calcualte the summary statistics for the precipitation data\n",
    "precip_df['Precipitation'].describe()"
   ]
  },
  {
   "cell_type": "code",
   "execution_count": 12,
   "metadata": {},
   "outputs": [
    {
     "name": "stdout",
     "output_type": "stream",
     "text": [
      "9 stations\n"
     ]
    }
   ],
   "source": [
    "# Design a query to show how many stations are available in this dataset?\n",
    "#inspector.get_columns('station')\n",
    "print(f\"{session.query(func.count(station.id)).all()[0][0]} stations\")"
   ]
  },
  {
   "cell_type": "code",
   "execution_count": 13,
   "metadata": {},
   "outputs": [
    {
     "name": "stdout",
     "output_type": "stream",
     "text": [
      "USC00518838 appeared 511 times.\n",
      "USC00517948 appeared 1372 times.\n",
      "USC00511918 appeared 1979 times.\n",
      "USC00514830 appeared 2202 times.\n",
      "USC00516128 appeared 2612 times.\n",
      "USC00519523 appeared 2669 times.\n",
      "USC00513117 appeared 2709 times.\n",
      "USC00519397 appeared 2724 times.\n",
      "USC00519281 appeared 2772 times.\n"
     ]
    }
   ],
   "source": [
    "# What are the most active stations? (i.e. what stations have the most rows)?\n",
    "# List the stations and the counts in descending order.\n",
    "active_stations = session.query(func.count(measurement.station), measurement.station).\\\n",
    "    group_by(measurement.station).\\\n",
    "    order_by(func.count(measurement.station)).all()\n",
    "for station in active_stations:\n",
    "    print(f\"{station[1]} appeared {station[0]} times.\")"
   ]
  },
  {
   "cell_type": "code",
   "execution_count": 14,
   "metadata": {},
   "outputs": [
    {
     "name": "stdout",
     "output_type": "stream",
     "text": [
      "Station USC00519281 had a max temperature of 85.0, a minimum of 54.0, and an average temperature of 71.66.\n"
     ]
    }
   ],
   "source": [
    "# Using the station id from the previous query, calculate the lowest temperature recorded, \n",
    "# highest temperature recorded, and average temperature of the most active station?\n",
    "inspector.get_columns('measurement')\n",
    "most_active_stats = session.query(func.max(measurement.tobs), func.min(measurement.tobs), func.avg(measurement.tobs), measurement.station).\\\n",
    "    filter(measurement.station == active_stations[-1][1]).all()[0]\n",
    "\n",
    "print(f\"Station {most_active_stats[-1]} had a max temperature of {most_active_stats[0]}, a minimum of {most_active_stats[1]}, and an average temperature of {round(most_active_stats[2], 2)}.\")"
   ]
  },
  {
   "cell_type": "code",
   "execution_count": 32,
   "metadata": {},
   "outputs": [
    {
     "data": {
      "image/png": "[encoded data removed]",
      "text/plain": [
       "<Figure size 432x288 with 1 Axes>"
      ]
     },
     "metadata": {
      "needs_background": "light"
     },
     "output_type": "display_data"
    }
   ],
   "source": [
    "# Choose the station with the highest number of temperature observations.\n",
    "# Query the last 12 months of temperature observation data for this station and plot the results as a histogram\n",
    "highest_number_station = active_stations[-1][1]\n",
    "highest_number_station\n",
    "highest_latestdate = session.query(measurement.date).\\\n",
    "    filter(measurement.station == highest_number_station).\\\n",
    "    order_by(measurement.date.desc()).first()[0]\n",
    "highestlatest_datetime = dt.datetime.strptime(highest_latestdate, '%Y-%m-%d').date()\n",
    "\n",
    "#12 months earlier\n",
    "year_earlier_station = highestlatest_datetime + relativedelta(months = -12)\n",
    "highestlatest_datetime, year_earlier_station\n",
    "\n",
    "#last 12 month query\n",
    "twelve_query = session.query(measurement.tobs).\\\n",
    "    filter(measurement.station == highest_number_station).\\\n",
    "    filter(measurement.date < highestlatest_datetime).\\\n",
    "    filter(measurement.date > year_earlier_station).all()\n",
    "temp_list = [temp[0] for temp in twelve_query]\n",
    "twelve_df = pd.DataFrame({'Temperature': temp_list})\n",
    "ax = twelve_df.plot.hist(bins = 12)"
   ]
  },
  {
   "cell_type": "markdown",
   "metadata": {},
   "source": [
    "## Bonus Challenge Assignment"
   ]
  },
  {
   "cell_type": "code",
   "execution_count": null,
   "metadata": {},
   "outputs": [],
   "source": []
  },
  {
   "cell_type": "code",
   "execution_count": null,
   "metadata": {},
   "outputs": [],
   "source": []
  },
  {
   "cell_type": "code",
   "execution_count": null,
   "metadata": {},
   "outputs": [],
   "source": []
  },
  {
   "cell_type": "code",
   "execution_count": null,
   "metadata": {},
   "outputs": [],
   "source": []
  },
  {
   "cell_type": "code",
   "execution_count": null,
   "metadata": {},
   "outputs": [],
   "source": []
  },
  {
   "cell_type": "code",
   "execution_count": null,
   "metadata": {},
   "outputs": [],
   "source": []
  },
  {
   "cell_type": "code",
   "execution_count": null,
   "metadata": {},
   "outputs": [],
   "source": []
  },
  {
   "cell_type": "code",
   "execution_count": null,
   "metadata": {},
   "outputs": [],
   "source": []
  }
 ],
 "metadata": {
  "kernel_info": {
   "name": "python3"
  },
  "kernelspec": {
   "display_name": "Python 3",
   "language": "python",
   "name": "python3"
  },
  "language_info": {
   "codemirror_mode": {
    "name": "ipython",
    "version": 3
   },
   "file_extension": ".py",
   "mimetype": "text/x-python",
   "name": "python",
   "nbconvert_exporter": "python",
   "pygments_lexer": "ipython3",
   "version": "3.7.4"
  },
  "nteract": {
   "version": "0.12.3"
  },
  "varInspector": {
   "cols": {
    "lenName": 16,
    "lenType": 16,
    "lenVar": 40
   },
   "kernels_config": {
    "python": {
     "delete_cmd_postfix": "",
     "delete_cmd_prefix": "del ",
     "library": "var_list.py",
     "varRefreshCmd": "print(var_dic_list())"
    },
    "r": {
     "delete_cmd_postfix": ") ",
     "delete_cmd_prefix": "rm(",
     "library": "var_list.r",
     "varRefreshCmd": "cat(var_dic_list()) "
    }
   },
   "types_to_exclude": [
    "module",
    "function",
    "builtin_function_or_method",
    "instance",
    "_Feature"
   ],
   "window_display": false
  }
 },
 "nbformat": 4,
 "nbformat_minor": 2
}
